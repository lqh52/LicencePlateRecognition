{
  "nbformat": 4,
  "nbformat_minor": 0,
  "metadata": {
    "colab": {
      "name": "Character_Recognition.ipynb",
      "provenance": [],
      "include_colab_link": true
    },
    "kernelspec": {
      "name": "python3",
      "display_name": "Python 3"
    },
    "accelerator": "GPU"
  },
  "cells": [
    {
      "cell_type": "markdown",
      "metadata": {
        "id": "view-in-github",
        "colab_type": "text"
      },
      "source": [
        "<a href=\"https://colab.research.google.com/github/lqh52/LicencePlateRecognition/blob/main/Character_Recognition.ipynb\" target=\"_parent\"><img src=\"https://colab.research.google.com/assets/colab-badge.svg\" alt=\"Open In Colab\"/></a>"
      ]
    },
    {
      "cell_type": "code",
      "metadata": {
        "id": "NS_5W_vEQqdN"
      },
      "source": [
        "import keras\n",
        "import numpy as np\n",
        "import glob\n",
        "import cv2\n",
        "from google.colab.patches import cv2_imshow\n",
        "\n",
        "from keras import optimizers\n",
        "from keras.layers import Dense, Conv2D, MaxPooling2D, Dropout, Flatten\n",
        "from keras.callbacks import ReduceLROnPlateau, ModelCheckpoint\n",
        "from keras.models import Sequential\n",
        "from tensorflow.keras.utils import to_categorical"
      ],
      "execution_count": null,
      "outputs": []
    },
    {
      "cell_type": "code",
      "metadata": {
        "id": "RyOFTwBrRCRU"
      },
      "source": [
        "ALPHA_DICT = {0: 'A', 1: 'B', 2: 'C', 3: 'D', 4: 'E', 5: 'F', 6: 'G', 7: 'H', 8: 'K', 9: 'L', 10: 'M', 11: 'N', 12: 'P',\n",
        "              13: 'R', 14: 'S', 15: 'T', 16: 'U', 17: 'V', 18: 'X', 19: 'Y', 20: 'Z', 21: '0', 22: '1', 23: '2', 24: '3',\n",
        "              25: '4', 26: '5', 27: '6', 28: '7', 29: '8', 30: '9'}"
      ],
      "execution_count": null,
      "outputs": []
    },
    {
      "cell_type": "code",
      "metadata": {
        "id": "tffCH1VTDgB7"
      },
      "source": [
        "data = []\n",
        "for key in ALPHA_DICT:\n",
        "  label = key\n",
        "  img_path = '/content/drive/MyDrive/LicensePlateDetection/data_CNN/'+ALPHA_DICT[key]+'/*.jpg'\n",
        "  img_list = glob.glob(img_path)\n",
        "  for img in img_list:\n",
        "    img_data = cv2.imread(img, cv2.IMREAD_GRAYSCALE)\n",
        "    img_data = cv2.resize(img_data, (28, 28), cv2.INTER_AREA)\n",
        "    img_data = img_data.reshape((28, 28, 1))\n",
        "    data.append((img_data, label))"
      ],
      "execution_count": null,
      "outputs": []
    },
    {
      "cell_type": "code",
      "metadata": {
        "id": "bvM_rvGVKQxZ"
      },
      "source": [
        "np.random.shuffle(data)\n",
        "images = []\n",
        "labels = []\n",
        "\n",
        "for i in range(len(data)):\n",
        "  image, label = data[i]\n",
        "  images.append(image)\n",
        "  labels.append(label)\n",
        "\n",
        "labels = to_categorical(labels, num_classes=31)"
      ],
      "execution_count": null,
      "outputs": []
    },
    {
      "cell_type": "code",
      "metadata": {
        "id": "q-ZBjBO8LVOA"
      },
      "source": [
        "BATCH_SIZE = 128\n",
        "EPOCHS = 50"
      ],
      "execution_count": null,
      "outputs": []
    },
    {
      "cell_type": "code",
      "metadata": {
        "id": "KJ-O_xzqLgkH"
      },
      "source": [
        "model = Sequential()\n",
        "model.add(Conv2D(32, (3, 3), padding='same', activation='relu', input_shape=(28, 28, 1)))\n",
        "model.add(Conv2D(32, (3, 3), activation='relu'))\n",
        "model.add(MaxPooling2D(pool_size=(2, 2)))\n",
        "model.add(Dropout(0.25))\n",
        "\n",
        "model.add(Conv2D(64, (3, 3), padding='same', activation='relu'))\n",
        "model.add(Conv2D(64, (3, 3), activation='relu'))\n",
        "model.add(MaxPooling2D(pool_size=(2, 2)))\n",
        "model.add(Dropout(0.25))\n",
        "\n",
        "model.add(Conv2D(64, (3, 3), padding='same', activation='relu'))\n",
        "model.add(Conv2D(64, (3, 3), activation='relu'))\n",
        "model.add(MaxPooling2D(pool_size=(2, 2)))\n",
        "model.add(Dropout(0.25))\n",
        "\n",
        "model.add(Flatten())\n",
        "model.add(Dense(512, activation='relu'))\n",
        "model.add(Dropout(0.5))\n",
        "model.add(Dense(31, activation='softmax'))\n",
        "model.compile(loss=\"categorical_crossentropy\", optimizer=optimizers.Adam(1e-3), metrics=['acc'])"
      ],
      "execution_count": null,
      "outputs": []
    },
    {
      "cell_type": "code",
      "metadata": {
        "id": "W8LPTssHNw0r"
      },
      "source": [
        "batch_size = BATCH_SIZE\n",
        "num_epochs = EPOCHS"
      ],
      "execution_count": null,
      "outputs": []
    },
    {
      "cell_type": "code",
      "metadata": {
        "id": "WiTaSmWINM6j",
        "colab": {
          "base_uri": "https://localhost:8080/"
        },
        "outputId": "c8341677-de45-4590-a977-2251ad4bd6de"
      },
      "source": [
        "# reduce learning rate\n",
        "reduce_lr = ReduceLROnPlateau(monitor='val_acc', factor=0.2, patience=5, verbose=1, )\n",
        "# Model Checkpoint\n",
        "cpt_save = ModelCheckpoint('./weight.h5', save_best_only=True, monitor='val_acc', mode='max')\n",
        "trainX, trainY = images, labels\n",
        "N = len(trainX)\n",
        "valX = trainX[:int(N*0.2)]\n",
        "valY = trainY[:int(N*0.2)]\n",
        "trainX = trainX[int(N*0.2):]\n",
        "trainY = trainY[int(N*0.2):]\n",
        "trainX = np.array(trainX)\n",
        "valX = np.array(valX)\n",
        "model.fit(trainX, trainY, callbacks=[cpt_save, reduce_lr], verbose=1, epochs=num_epochs, shuffle=True, batch_size=batch_size, validation_data=(valX, valY))"
      ],
      "execution_count": null,
      "outputs": [
        {
          "output_type": "stream",
          "text": [
            "Epoch 1/50\n",
            "23/23 [==============================] - 1s 51ms/step - loss: 2.6949 - acc: 0.2370 - val_loss: 1.8384 - val_acc: 0.4443\n",
            "Epoch 2/50\n",
            "23/23 [==============================] - 0s 12ms/step - loss: 1.7683 - acc: 0.4548 - val_loss: 0.9226 - val_acc: 0.6713\n",
            "Epoch 3/50\n",
            "23/23 [==============================] - 0s 11ms/step - loss: 1.1947 - acc: 0.6190 - val_loss: 0.5518 - val_acc: 0.8404\n",
            "Epoch 4/50\n",
            "23/23 [==============================] - 0s 12ms/step - loss: 0.8754 - acc: 0.6946 - val_loss: 0.4240 - val_acc: 0.8542\n",
            "Epoch 5/50\n",
            "23/23 [==============================] - 0s 14ms/step - loss: 0.7257 - acc: 0.7537 - val_loss: 0.3257 - val_acc: 0.8927\n",
            "Epoch 6/50\n",
            "23/23 [==============================] - 0s 12ms/step - loss: 0.6146 - acc: 0.7946 - val_loss: 0.3022 - val_acc: 0.8776\n",
            "Epoch 7/50\n",
            "23/23 [==============================] - 0s 14ms/step - loss: 0.5386 - acc: 0.8148 - val_loss: 0.2433 - val_acc: 0.9216\n",
            "Epoch 8/50\n",
            "23/23 [==============================] - 0s 12ms/step - loss: 0.4661 - acc: 0.8317 - val_loss: 0.2192 - val_acc: 0.9257\n",
            "Epoch 9/50\n",
            "23/23 [==============================] - 0s 11ms/step - loss: 0.4253 - acc: 0.8619 - val_loss: 0.2010 - val_acc: 0.9409\n",
            "Epoch 10/50\n",
            "23/23 [==============================] - 0s 12ms/step - loss: 0.3815 - acc: 0.8653 - val_loss: 0.1896 - val_acc: 0.9285\n",
            "Epoch 11/50\n",
            "23/23 [==============================] - 0s 12ms/step - loss: 0.3448 - acc: 0.8842 - val_loss: 0.1759 - val_acc: 0.9409\n",
            "Epoch 12/50\n",
            "23/23 [==============================] - 0s 11ms/step - loss: 0.3356 - acc: 0.8853 - val_loss: 0.1519 - val_acc: 0.9560\n",
            "Epoch 13/50\n",
            "23/23 [==============================] - 0s 13ms/step - loss: 0.2884 - acc: 0.8949 - val_loss: 0.1514 - val_acc: 0.9519\n",
            "Epoch 14/50\n",
            "23/23 [==============================] - 0s 13ms/step - loss: 0.2813 - acc: 0.9000 - val_loss: 0.1474 - val_acc: 0.9532\n",
            "Epoch 15/50\n",
            "23/23 [==============================] - 0s 13ms/step - loss: 0.2706 - acc: 0.9048 - val_loss: 0.1417 - val_acc: 0.9615\n",
            "Epoch 16/50\n",
            "23/23 [==============================] - 0s 12ms/step - loss: 0.2532 - acc: 0.9145 - val_loss: 0.1300 - val_acc: 0.9532\n",
            "Epoch 17/50\n",
            "23/23 [==============================] - 0s 12ms/step - loss: 0.2592 - acc: 0.9155 - val_loss: 0.1539 - val_acc: 0.9505\n",
            "Epoch 18/50\n",
            "23/23 [==============================] - 0s 13ms/step - loss: 0.2242 - acc: 0.9186 - val_loss: 0.1274 - val_acc: 0.9546\n",
            "Epoch 19/50\n",
            "23/23 [==============================] - 0s 13ms/step - loss: 0.2234 - acc: 0.9165 - val_loss: 0.1468 - val_acc: 0.9450\n",
            "Epoch 20/50\n",
            "23/23 [==============================] - 0s 11ms/step - loss: 0.2199 - acc: 0.9231 - val_loss: 0.1357 - val_acc: 0.9519\n",
            "\n",
            "Epoch 00020: ReduceLROnPlateau reducing learning rate to 0.00020000000949949026.\n",
            "Epoch 21/50\n",
            "23/23 [==============================] - 0s 11ms/step - loss: 0.1894 - acc: 0.9340 - val_loss: 0.1246 - val_acc: 0.9601\n",
            "Epoch 22/50\n",
            "23/23 [==============================] - 0s 13ms/step - loss: 0.1856 - acc: 0.9361 - val_loss: 0.1224 - val_acc: 0.9574\n",
            "Epoch 23/50\n",
            "23/23 [==============================] - 0s 12ms/step - loss: 0.1670 - acc: 0.9430 - val_loss: 0.1166 - val_acc: 0.9587\n",
            "Epoch 24/50\n",
            "23/23 [==============================] - 0s 13ms/step - loss: 0.1624 - acc: 0.9413 - val_loss: 0.1210 - val_acc: 0.9615\n",
            "Epoch 25/50\n",
            "23/23 [==============================] - 0s 12ms/step - loss: 0.1649 - acc: 0.9413 - val_loss: 0.1161 - val_acc: 0.9642\n",
            "Epoch 26/50\n",
            "23/23 [==============================] - 0s 11ms/step - loss: 0.1587 - acc: 0.9433 - val_loss: 0.1153 - val_acc: 0.9615\n",
            "Epoch 27/50\n",
            "23/23 [==============================] - 0s 12ms/step - loss: 0.1373 - acc: 0.9533 - val_loss: 0.1164 - val_acc: 0.9601\n",
            "Epoch 28/50\n",
            "23/23 [==============================] - 0s 11ms/step - loss: 0.1373 - acc: 0.9478 - val_loss: 0.1185 - val_acc: 0.9615\n",
            "Epoch 29/50\n",
            "23/23 [==============================] - 0s 11ms/step - loss: 0.1554 - acc: 0.9450 - val_loss: 0.1161 - val_acc: 0.9656\n",
            "Epoch 30/50\n",
            "23/23 [==============================] - 0s 13ms/step - loss: 0.1498 - acc: 0.9437 - val_loss: 0.1165 - val_acc: 0.9656\n",
            "Epoch 31/50\n",
            "23/23 [==============================] - 0s 11ms/step - loss: 0.1427 - acc: 0.9454 - val_loss: 0.1389 - val_acc: 0.9532\n",
            "Epoch 32/50\n",
            "23/23 [==============================] - 0s 11ms/step - loss: 0.1390 - acc: 0.9502 - val_loss: 0.1143 - val_acc: 0.9629\n",
            "Epoch 33/50\n",
            "23/23 [==============================] - 0s 13ms/step - loss: 0.1450 - acc: 0.9457 - val_loss: 0.1205 - val_acc: 0.9587\n",
            "Epoch 34/50\n",
            "23/23 [==============================] - 0s 11ms/step - loss: 0.1411 - acc: 0.9512 - val_loss: 0.1199 - val_acc: 0.9560\n",
            "\n",
            "Epoch 00034: ReduceLROnPlateau reducing learning rate to 4.0000001899898055e-05.\n",
            "Epoch 35/50\n",
            "23/23 [==============================] - 0s 12ms/step - loss: 0.1261 - acc: 0.9529 - val_loss: 0.1177 - val_acc: 0.9587\n",
            "Epoch 36/50\n",
            "23/23 [==============================] - 0s 11ms/step - loss: 0.1365 - acc: 0.9505 - val_loss: 0.1166 - val_acc: 0.9629\n",
            "Epoch 37/50\n",
            "23/23 [==============================] - 0s 11ms/step - loss: 0.1386 - acc: 0.9523 - val_loss: 0.1170 - val_acc: 0.9615\n",
            "Epoch 38/50\n",
            "23/23 [==============================] - 0s 13ms/step - loss: 0.1337 - acc: 0.9540 - val_loss: 0.1138 - val_acc: 0.9615\n",
            "Epoch 39/50\n",
            "23/23 [==============================] - 0s 11ms/step - loss: 0.1360 - acc: 0.9512 - val_loss: 0.1125 - val_acc: 0.9601\n",
            "\n",
            "Epoch 00039: ReduceLROnPlateau reducing learning rate to 8.000000525498762e-06.\n",
            "Epoch 40/50\n",
            "23/23 [==============================] - 0s 11ms/step - loss: 0.1308 - acc: 0.9526 - val_loss: 0.1125 - val_acc: 0.9615\n",
            "Epoch 41/50\n",
            "23/23 [==============================] - 0s 11ms/step - loss: 0.1342 - acc: 0.9502 - val_loss: 0.1130 - val_acc: 0.9629\n",
            "Epoch 42/50\n",
            "23/23 [==============================] - 0s 11ms/step - loss: 0.1318 - acc: 0.9516 - val_loss: 0.1130 - val_acc: 0.9629\n",
            "Epoch 43/50\n",
            "23/23 [==============================] - 0s 13ms/step - loss: 0.1157 - acc: 0.9574 - val_loss: 0.1133 - val_acc: 0.9629\n",
            "Epoch 44/50\n",
            "23/23 [==============================] - 0s 11ms/step - loss: 0.1247 - acc: 0.9619 - val_loss: 0.1140 - val_acc: 0.9615\n",
            "\n",
            "Epoch 00044: ReduceLROnPlateau reducing learning rate to 1.6000001778593287e-06.\n",
            "Epoch 45/50\n",
            "23/23 [==============================] - 0s 11ms/step - loss: 0.1244 - acc: 0.9550 - val_loss: 0.1140 - val_acc: 0.9615\n",
            "Epoch 46/50\n",
            "23/23 [==============================] - 0s 13ms/step - loss: 0.1338 - acc: 0.9492 - val_loss: 0.1140 - val_acc: 0.9615\n",
            "Epoch 47/50\n",
            "23/23 [==============================] - 0s 11ms/step - loss: 0.1322 - acc: 0.9529 - val_loss: 0.1141 - val_acc: 0.9615\n",
            "Epoch 48/50\n",
            "23/23 [==============================] - 0s 13ms/step - loss: 0.1276 - acc: 0.9519 - val_loss: 0.1141 - val_acc: 0.9615\n",
            "Epoch 49/50\n",
            "23/23 [==============================] - 0s 13ms/step - loss: 0.1287 - acc: 0.9567 - val_loss: 0.1141 - val_acc: 0.9615\n",
            "\n",
            "Epoch 00049: ReduceLROnPlateau reducing learning rate to 3.200000264769187e-07.\n",
            "Epoch 50/50\n",
            "23/23 [==============================] - 0s 11ms/step - loss: 0.1290 - acc: 0.9557 - val_loss: 0.1141 - val_acc: 0.9615\n"
          ],
          "name": "stdout"
        },
        {
          "output_type": "execute_result",
          "data": {
            "text/plain": [
              "<keras.callbacks.History at 0x7f572210fb90>"
            ]
          },
          "metadata": {
            "tags": []
          },
          "execution_count": 18
        }
      ]
    },
    {
      "cell_type": "code",
      "metadata": {
        "id": "EvXdaVw-kAit"
      },
      "source": [
        ""
      ],
      "execution_count": null,
      "outputs": []
    }
  ]
}